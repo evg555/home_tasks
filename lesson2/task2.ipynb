{
  "nbformat": 4,
  "nbformat_minor": 0,
  "metadata": {
    "colab": {
      "name": "task2.ipynb",
      "provenance": [],
      "collapsed_sections": []
    },
    "kernelspec": {
      "name": "python3",
      "display_name": "Python 3"
    }
  },
  "cells": [
    {
      "cell_type": "code",
      "metadata": {
        "id": "lwZ8KgC4Smqr",
        "colab_type": "code",
        "colab": {}
      },
      "source": [
        "import numpy as np"
      ],
      "execution_count": 0,
      "outputs": []
    },
    {
      "cell_type": "markdown",
      "metadata": {
        "id": "yosMAKKBRWvP",
        "colab_type": "text"
      },
      "source": [
        "1. Вычислить определитель:  \n",
        "a) $\\begin{vmatrix} \n",
        "sinx & -cosx\\\\ \n",
        "cosx & sinx\n",
        "\\end{vmatrix}$"
      ]
    },
    {
      "cell_type": "markdown",
      "metadata": {
        "id": "jyt_aZ3UR55V",
        "colab_type": "text"
      },
      "source": [
        "det = $sin^2x + cos^2x$ = 1"
      ]
    },
    {
      "cell_type": "code",
      "metadata": {
        "id": "dnOjer1_S6Qp",
        "colab_type": "code",
        "colab": {
          "base_uri": "https://localhost:8080/",
          "height": 34
        },
        "outputId": "28f79aee-b635-4ccb-9210-317011bd5d9b"
      },
      "source": [
        "#Проверка\n",
        "x = 1\n",
        "a = np.array([[np.sin(x), -np.cos(x)],[np.cos(x), np.sin(x)]])\n",
        "\n",
        "np.linalg.det(a)"
      ],
      "execution_count": 19,
      "outputs": [
        {
          "output_type": "execute_result",
          "data": {
            "text/plain": [
              "1.0"
            ]
          },
          "metadata": {
            "tags": []
          },
          "execution_count": 19
        }
      ]
    },
    {
      "cell_type": "markdown",
      "metadata": {
        "id": "ORc6p3IDSfi6",
        "colab_type": "text"
      },
      "source": [
        "б)$$\\begin{vmatrix} \n",
        "4 & 2 & 3\\\\ \n",
        "0 & 5 & 1\\\\\n",
        "0 & 0 & 9\n",
        "\\end{vmatrix}$$"
      ]
    },
    {
      "cell_type": "markdown",
      "metadata": {
        "id": "f1cblLBvShem",
        "colab_type": "text"
      },
      "source": [
        "det = 4 * 5 * 9 = 180"
      ]
    },
    {
      "cell_type": "code",
      "metadata": {
        "id": "_n0bgcyYTWBN",
        "colab_type": "code",
        "colab": {
          "base_uri": "https://localhost:8080/",
          "height": 34
        },
        "outputId": "03c78bb0-5637-4bbf-8577-e1c04b2efdf6"
      },
      "source": [
        "#Проверка\n",
        "a = np.array([[4,2,3],[0,5,1],[0,0,9]])\n",
        "\n",
        "np.linalg.det(a)"
      ],
      "execution_count": 20,
      "outputs": [
        {
          "output_type": "execute_result",
          "data": {
            "text/plain": [
              "180.0"
            ]
          },
          "metadata": {
            "tags": []
          },
          "execution_count": 20
        }
      ]
    },
    {
      "cell_type": "markdown",
      "metadata": {
        "id": "qs5ZFYeETjbT",
        "colab_type": "text"
      },
      "source": [
        "в) $$\\begin{vmatrix} \n",
        "1 & 2 & 3\\\\ \n",
        "4 & 5 & 6\\\\\n",
        "7 & 8 & 9\n",
        "\\end{vmatrix}$$"
      ]
    },
    {
      "cell_type": "markdown",
      "metadata": {
        "id": "3QEEMmw-TwwW",
        "colab_type": "text"
      },
      "source": [
        "det = 0, так как все вектора линейно зависимые"
      ]
    },
    {
      "cell_type": "code",
      "metadata": {
        "id": "JAWiBN80UACc",
        "colab_type": "code",
        "colab": {
          "base_uri": "https://localhost:8080/",
          "height": 34
        },
        "outputId": "6dc89534-f6f2-4be6-b5c7-56c0bd4f59e2"
      },
      "source": [
        "#Проверка\n",
        "a = np.array([[1,2,3],[4,5,6],[7,8,9]])\n",
        "\n",
        "np.linalg.det(a)"
      ],
      "execution_count": 21,
      "outputs": [
        {
          "output_type": "execute_result",
          "data": {
            "text/plain": [
              "0.0"
            ]
          },
          "metadata": {
            "tags": []
          },
          "execution_count": 21
        }
      ]
    },
    {
      "cell_type": "markdown",
      "metadata": {
        "id": "DP5z5ynYUH-m",
        "colab_type": "text"
      },
      "source": [
        "2. Определитель матрицы  A  равен  4 . Найти:  \n",
        "а)  det($A^2$) ;"
      ]
    },
    {
      "cell_type": "markdown",
      "metadata": {
        "id": "ukN-ochBUQE_",
        "colab_type": "text"
      },
      "source": [
        "det($A^2$) = $det(A)^2$ = 4*4 = 16"
      ]
    },
    {
      "cell_type": "markdown",
      "metadata": {
        "id": "KX5yfaKxVG9F",
        "colab_type": "text"
      },
      "source": [
        "б)  det($A^T$) ;"
      ]
    },
    {
      "cell_type": "markdown",
      "metadata": {
        "id": "t2gz4RrtVeJV",
        "colab_type": "text"
      },
      "source": [
        "det($A^T$) = det(A) = 4"
      ]
    },
    {
      "cell_type": "markdown",
      "metadata": {
        "id": "EgP4n56xViEg",
        "colab_type": "text"
      },
      "source": [
        "в)  det(2A) ."
      ]
    },
    {
      "cell_type": "markdown",
      "metadata": {
        "id": "wbkozIElVLP8",
        "colab_type": "text"
      },
      "source": [
        "det(2A) = $2^2$ * det(A) = 4 * 4 = 16"
      ]
    },
    {
      "cell_type": "markdown",
      "metadata": {
        "id": "D4uh5lr5WTJ4",
        "colab_type": "text"
      },
      "source": [
        "3. Доказать, что матрица$$\\begin{vmatrix} \n",
        "-2 & 7 & -3\\\\ \n",
        "4 & -14 & 6\\\\\n",
        "-3 & 7 & 13\n",
        "\\end{vmatrix}$$ вырожденная"
      ]
    },
    {
      "cell_type": "markdown",
      "metadata": {
        "id": "2mLIYKZ6gRO-",
        "colab_type": "text"
      },
      "source": [
        "Найдем определитель матрицы  \n",
        "$-2 * (-14*13 - 6*7) - 7*(4*13+6*3) - 3*(4*7-3*14) = 448 - 490 + 42 = 0$  \n",
        "Так как определитель равен 0 => матрица вырожденная \n"
      ]
    },
    {
      "cell_type": "markdown",
      "metadata": {
        "id": "aDIDjY9-h_WU",
        "colab_type": "text"
      },
      "source": [
        "4. Найти ранг матрицы:"
      ]
    },
    {
      "cell_type": "markdown",
      "metadata": {
        "id": "8mmY-6agiCDs",
        "colab_type": "text"
      },
      "source": [
        "а)  $$\\begin{vmatrix} \n",
        "1 & 2 & 3\\\\ \n",
        "1 & 1 & 1\\\\\n",
        "2 & 3 & 4\n",
        "\\end{vmatrix}$$"
      ]
    },
    {
      "cell_type": "markdown",
      "metadata": {
        "id": "KPubg4WkiQ1e",
        "colab_type": "text"
      },
      "source": [
        "Первая и третья строки - линейно зависимые вектора => ранг матрицы равен 2"
      ]
    },
    {
      "cell_type": "code",
      "metadata": {
        "id": "c8FR7jqRiutd",
        "colab_type": "code",
        "colab": {
          "base_uri": "https://localhost:8080/",
          "height": 34
        },
        "outputId": "9fc20fa0-4630-44af-9b4b-d57ade682a9b"
      },
      "source": [
        "#Проверка\n",
        "a = np.array([[1,2,3],[1,1,1],[2,3,4]])\n",
        "np.linalg.matrix_rank(a)"
      ],
      "execution_count": 22,
      "outputs": [
        {
          "output_type": "execute_result",
          "data": {
            "text/plain": [
              "2"
            ]
          },
          "metadata": {
            "tags": []
          },
          "execution_count": 22
        }
      ]
    },
    {
      "cell_type": "markdown",
      "metadata": {
        "id": "kcplXirliaZe",
        "colab_type": "text"
      },
      "source": [
        "б)  $$\\begin{vmatrix} \n",
        "0 & 0 & 2 & 1\\\\ \n",
        "0 & 0 & 2 & 2\\\\\n",
        "0 & 0 & 4 & 3\\\\\n",
        "2 & 3 & 5 & 6\n",
        "\\end{vmatrix}$$"
      ]
    },
    {
      "cell_type": "markdown",
      "metadata": {
        "id": "Z0WqybiNi90V",
        "colab_type": "text"
      },
      "source": [
        "3 и 4 строки - линейно зависимые вектора => ранг матрицы равен 3"
      ]
    },
    {
      "cell_type": "code",
      "metadata": {
        "id": "CoEiOGQmjVlO",
        "colab_type": "code",
        "colab": {
          "base_uri": "https://localhost:8080/",
          "height": 34
        },
        "outputId": "7d4b82b9-c9bc-408b-e2d4-e5a87b153ff1"
      },
      "source": [
        "#Проверка\n",
        "a = np.array([[0,0,2,1],[0,0,2,2],[0,0,4,3], [2,3,5,6]])\n",
        "np.linalg.matrix_rank(a)"
      ],
      "execution_count": 23,
      "outputs": [
        {
          "output_type": "execute_result",
          "data": {
            "text/plain": [
              "3"
            ]
          },
          "metadata": {
            "tags": []
          },
          "execution_count": 23
        }
      ]
    }
  ]
}