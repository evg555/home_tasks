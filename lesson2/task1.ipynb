{
  "nbformat": 4,
  "nbformat_minor": 0,
  "metadata": {
    "colab": {
      "name": "task1.ipynb",
      "provenance": [],
      "collapsed_sections": []
    },
    "kernelspec": {
      "name": "python3",
      "display_name": "Python 3"
    }
  },
  "cells": [
    {
      "cell_type": "code",
      "metadata": {
        "id": "X6NGKxA237JU",
        "colab_type": "code",
        "colab": {}
      },
      "source": [
        "import numpy as np"
      ],
      "execution_count": 0,
      "outputs": []
    },
    {
      "cell_type": "markdown",
      "metadata": {
        "id": "-371Nfhs4E55",
        "colab_type": "text"
      },
      "source": [
        "1. Установить, какие произведения матриц  AB  и  BA  определены, и найти размерности полученных матриц:"
      ]
    },
    {
      "cell_type": "markdown",
      "metadata": {
        "id": "VJYpd8jl4Ivq",
        "colab_type": "text"
      },
      "source": [
        "а)  A  — матрица  4×2 ,  B  — матрица  4×2;  \n",
        "произведение не определенно, так как в первой матрице 2 столбца, а во второй матрице 4 строки  \n",
        "  \n",
        "б)  A  — матрица  2×5 ,  B  — матрица  5×3 ;  \n",
        "произведение определенно, результирующая матрица будет 2 х 3  \n",
        "  \n",
        "\n",
        "в)  A  — матрица  8×3 ,  B  — матрица  3×8 ;  \n",
        "произведение определенно, результирующая матрица будет 8 х 8  \n",
        "  \n",
        "г)  A  — квадратная матрица  4×4 ,  B  — квадратная матрица  4×4 .  \n",
        "произведение определенно, результирующая матрица будет 4 х 4"
      ]
    },
    {
      "cell_type": "markdown",
      "metadata": {
        "id": "Uh1nWcZ45M8X",
        "colab_type": "text"
      },
      "source": [
        "2.  \n",
        "Найти сумму и произведение матриц  A=$\\begin{pmatrix}\n",
        "1 & -2 \\\\\n",
        "3 & 0\n",
        "\\end{pmatrix}$  и  B=$\\begin{pmatrix}\n",
        "4 & -1 \\\\\n",
        "0 & 5\n",
        "\\end{pmatrix}$. "
      ]
    },
    {
      "cell_type": "markdown",
      "metadata": {
        "id": "hT2z1n8W8RBX",
        "colab_type": "text"
      },
      "source": [
        "A + B = $\\begin{pmatrix}\n",
        "5 & -3 \\\\\n",
        "3 & 5\n",
        "\\end{pmatrix}$    \n",
        "AB = $\\begin{pmatrix}\n",
        "4 & -11 \\\\\n",
        "12 & -3\n",
        "\\end{pmatrix}$"
      ]
    },
    {
      "cell_type": "code",
      "metadata": {
        "id": "WrjbAWdp87X4",
        "colab_type": "code",
        "colab": {
          "base_uri": "https://localhost:8080/",
          "height": 51
        },
        "outputId": "172f6ec6-17f3-4080-e9ac-4114aa5f2fc3"
      },
      "source": [
        "#Проверка\n",
        "a = np.array([[1,-2],[3,0]])\n",
        "b = np.array([[4,-1],[0,5]])\n",
        "\n",
        "a+b"
      ],
      "execution_count": 106,
      "outputs": [
        {
          "output_type": "execute_result",
          "data": {
            "text/plain": [
              "array([[ 5, -3],\n",
              "       [ 3,  5]])"
            ]
          },
          "metadata": {
            "tags": []
          },
          "execution_count": 106
        }
      ]
    },
    {
      "cell_type": "code",
      "metadata": {
        "id": "yI9rtzMx9cfE",
        "colab_type": "code",
        "colab": {
          "base_uri": "https://localhost:8080/",
          "height": 51
        },
        "outputId": "710ca158-b9aa-423c-fedf-2b83dec6cb72"
      },
      "source": [
        "np.dot(a,b)"
      ],
      "execution_count": 107,
      "outputs": [
        {
          "output_type": "execute_result",
          "data": {
            "text/plain": [
              "array([[  4, -11],\n",
              "       [ 12,  -3]])"
            ]
          },
          "metadata": {
            "tags": []
          },
          "execution_count": 107
        }
      ]
    },
    {
      "cell_type": "markdown",
      "metadata": {
        "id": "tiNMeCv19uGt",
        "colab_type": "text"
      },
      "source": [
        "3. Из закономерностей сложения и умножения матриц на число можно сделать вывод, что матрицы одного размера образуют линейное пространство. Вычислить линейную комбинацию  3A−2B+4C  для матриц  A=$\\begin{pmatrix}\n",
        "1 & 7 \\\\\n",
        "3 & -6\n",
        "\\end{pmatrix}$ ,  B=$\\begin{pmatrix}\n",
        "0 & 5 \\\\\n",
        "2 & -1\n",
        "\\end{pmatrix}$, C=$\\begin{pmatrix}\n",
        "2 & -4 \\\\\n",
        "1 & 1\n",
        "\\end{pmatrix}$"
      ]
    },
    {
      "cell_type": "markdown",
      "metadata": {
        "id": "tRQcoxS9-FWp",
        "colab_type": "text"
      },
      "source": [
        "3A−2B+4C = $\\begin{pmatrix}\n",
        "3*1-2*0+4*2 & 3*7-2*5+4*(-4) \\\\\n",
        "3*3-2*2+4*1 & -6*3-2*(-1)+4*1\n",
        "\\end{pmatrix}$ =$\\begin{pmatrix}\n",
        "11 & -5 \\\\\n",
        "9 & -12\n",
        "\\end{pmatrix}$"
      ]
    },
    {
      "cell_type": "code",
      "metadata": {
        "id": "IyVAX6LO_Kpt",
        "colab_type": "code",
        "colab": {
          "base_uri": "https://localhost:8080/",
          "height": 51
        },
        "outputId": "562cd7ef-3f23-48e6-c4d7-106f4a4dca24"
      },
      "source": [
        "#Проверка\n",
        "a = np.array([[1,7],[3,-6]])\n",
        "b = np.array([[0,5],[2,-1]])\n",
        "c = np.array([[2,-4],[1,1]])\n",
        "\n",
        "3*a - 2*b + 4*c\n"
      ],
      "execution_count": 108,
      "outputs": [
        {
          "output_type": "execute_result",
          "data": {
            "text/plain": [
              "array([[ 11,  -5],\n",
              "       [  9, -12]])"
            ]
          },
          "metadata": {
            "tags": []
          },
          "execution_count": 108
        }
      ]
    },
    {
      "cell_type": "markdown",
      "metadata": {
        "id": "BSernbKlABNd",
        "colab_type": "text"
      },
      "source": [
        "4. Дана матрица  A=$\\begin{pmatrix}\n",
        "4 & 1 \\\\\n",
        "5 & -2 \\\\\n",
        "2 & 3\n",
        "\\end{pmatrix}$ . Вычислить  $AA^T$  и  $A^TA$ ."
      ]
    },
    {
      "cell_type": "markdown",
      "metadata": {
        "id": "nBtL1w5DArUs",
        "colab_type": "text"
      },
      "source": [
        "$AA^T$ = $\\begin{pmatrix}\n",
        "4 & 1 \\\\\n",
        "5 & -2 \\\\\n",
        "2 & 3\n",
        "\\end{pmatrix}$ * $\\begin{pmatrix}\n",
        "4 & 5 & 2 \\\\\n",
        "1 & -2 & 3 \\\\\n",
        "\\end{pmatrix}$ = $\\begin{pmatrix}\n",
        "17 & 18 & 11 \\\\\n",
        "18 & 29 & 4 \\\\\n",
        "11 & 4 & 13\n",
        "\\end{pmatrix}$  \n",
        "$A^TA$ = $\\begin{pmatrix}\n",
        "4 & 5 & 2 \\\\\n",
        "1 & -2 & 3 \\\\\n",
        "\\end{pmatrix}$*$\\begin{pmatrix}\n",
        "4 & 1 \\\\\n",
        "5 & -2 \\\\\n",
        "2 & 3\n",
        "\\end{pmatrix}$ = $\\begin{pmatrix}\n",
        "45 & 0 \\\\\n",
        "0 & 14\n",
        "\\end{pmatrix}$"
      ]
    },
    {
      "cell_type": "code",
      "metadata": {
        "id": "FhEF277SCFdr",
        "colab_type": "code",
        "colab": {
          "base_uri": "https://localhost:8080/",
          "height": 68
        },
        "outputId": "8f7c3668-23b1-4b18-c4f1-c03d31a317e9"
      },
      "source": [
        "#Проверка\n",
        "a = np.array([[4,1],[5,-2],[2,3]])\n",
        "\n",
        "np.dot(a,a.T)"
      ],
      "execution_count": 109,
      "outputs": [
        {
          "output_type": "execute_result",
          "data": {
            "text/plain": [
              "array([[17, 18, 11],\n",
              "       [18, 29,  4],\n",
              "       [11,  4, 13]])"
            ]
          },
          "metadata": {
            "tags": []
          },
          "execution_count": 109
        }
      ]
    },
    {
      "cell_type": "code",
      "metadata": {
        "id": "C5vCUjFVCblz",
        "colab_type": "code",
        "colab": {
          "base_uri": "https://localhost:8080/",
          "height": 51
        },
        "outputId": "79c714d9-a37d-4e36-a30f-a1c642f94f24"
      },
      "source": [
        "np.dot(a.T,a)"
      ],
      "execution_count": 110,
      "outputs": [
        {
          "output_type": "execute_result",
          "data": {
            "text/plain": [
              "array([[45,  0],\n",
              "       [ 0, 14]])"
            ]
          },
          "metadata": {
            "tags": []
          },
          "execution_count": 110
        }
      ]
    },
    {
      "cell_type": "markdown",
      "metadata": {
        "id": "mhpjqIDLCqTj",
        "colab_type": "text"
      },
      "source": [
        "5*. Написать на Python функцию для перемножения двух произвольных матриц, не используя NumPy."
      ]
    },
    {
      "cell_type": "code",
      "metadata": {
        "id": "fFb09QJuDCrv",
        "colab_type": "code",
        "colab": {}
      },
      "source": [
        "def dot(a,b):\n",
        "  if len(a[0]) != len(b):\n",
        "    print(f'Матрицы не возможно перемножить: в первой матрице столбцов: {len(a[0])}, во второй матрице строк: {len(b)}')\n",
        "  \n",
        "  #Генерируем результирующую матрицу нужного размера\n",
        "  result = []\n",
        "  for row in range(len(a)):\n",
        "    row = []\n",
        "    for i in range(len(b[0])):\n",
        "      row.append(0)          \n",
        "    result.append(row)\n",
        "\n",
        "  for i,a_row in enumerate(a):    \n",
        "    for b_column in range(len(b[0])): \n",
        "      x = 0     \n",
        "      for j,a_number in enumerate(a_row):\n",
        "        x += a_number*b[j][b_column]\n",
        "\n",
        "      result[i][b_column] = x\n",
        "\n",
        "  return result\n",
        "        "
      ],
      "execution_count": 0,
      "outputs": []
    },
    {
      "cell_type": "code",
      "metadata": {
        "id": "yqNtJdI8CvB0",
        "colab_type": "code",
        "colab": {
          "base_uri": "https://localhost:8080/",
          "height": 34
        },
        "outputId": "314392bf-d16c-4b75-f9e3-789364c80068"
      },
      "source": [
        "a = [[1,-2],[3,0]]\n",
        "b = [[4,-1], [0,5]]\n",
        "\n",
        "dot(a,b)"
      ],
      "execution_count": 112,
      "outputs": [
        {
          "output_type": "execute_result",
          "data": {
            "text/plain": [
              "[[4, -11], [12, -3]]"
            ]
          },
          "metadata": {
            "tags": []
          },
          "execution_count": 112
        }
      ]
    },
    {
      "cell_type": "code",
      "metadata": {
        "id": "gId1ko4KHVJe",
        "colab_type": "code",
        "colab": {
          "base_uri": "https://localhost:8080/",
          "height": 51
        },
        "outputId": "d16a491d-dd42-45d8-c9cf-0f6970956792"
      },
      "source": [
        "#Проверка\n",
        "a = np.array([[1,-2],[3,0]])\n",
        "b = np.array([[4,-1], [0,5]])\n",
        "\n",
        "np.dot(a,b)"
      ],
      "execution_count": 113,
      "outputs": [
        {
          "output_type": "execute_result",
          "data": {
            "text/plain": [
              "array([[  4, -11],\n",
              "       [ 12,  -3]])"
            ]
          },
          "metadata": {
            "tags": []
          },
          "execution_count": 113
        }
      ]
    }
  ]
}