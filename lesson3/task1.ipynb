{
  "nbformat": 4,
  "nbformat_minor": 0,
  "metadata": {
    "colab": {
      "name": "task1.ipynb",
      "provenance": [],
      "collapsed_sections": []
    },
    "kernelspec": {
      "name": "python3",
      "display_name": "Python 3"
    }
  },
  "cells": [
    {
      "cell_type": "markdown",
      "metadata": {
        "id": "JOb88wORN2Hn",
        "colab_type": "text"
      },
      "source": [
        "1. Найти собственные векторы и собственные значения для линейного оператора, заданного матрицей\n",
        "\n",
        "$$A=\\begin{pmatrix}\n",
        "-1 & -6\\\\\n",
        "2 & 6\n",
        "\\end{pmatrix}$$."
      ]
    },
    {
      "cell_type": "markdown",
      "metadata": {
        "id": "t7HyqkwWOkZw",
        "colab_type": "text"
      },
      "source": [
        "$\\begin{pmatrix}\n",
        "-1 - lambda & -6\\\\\n",
        "2 & 6 - lambda\n",
        "\\end{pmatrix} = 0$"
      ]
    },
    {
      "cell_type": "markdown",
      "metadata": {
        "id": "FYHEB_ybQKx9",
        "colab_type": "text"
      },
      "source": [
        "$(-1 - lambda)(6 - lambda) + 12 = 0\\\\ \n",
        "-6 - 6*lambda + lambda + lambda^2 + 12 = 0\\\\\n",
        "lambda^2 - 5*lambda + 6 = 0\\\\\n",
        "lambda1 = 2\\\\ \n",
        "lambda2 = 3$"
      ]
    },
    {
      "cell_type": "markdown",
      "metadata": {
        "id": "-Y42IEI7R-vf",
        "colab_type": "text"
      },
      "source": [
        "Собственные значения: 2, 3"
      ]
    },
    {
      "cell_type": "markdown",
      "metadata": {
        "id": "KIUajForSAcb",
        "colab_type": "text"
      },
      "source": [
        "$\\begin{pmatrix}\n",
        "-1 & -6\\\\\n",
        "2 & 6\n",
        "\\end{pmatrix} *\n",
        "\\begin{pmatrix}\n",
        "x_1\\\\\n",
        "x_2\n",
        "\\end{pmatrix} = 2*\\begin{pmatrix}\n",
        "x_1\\\\\n",
        "x_2\n",
        "\\end{pmatrix}$"
      ]
    },
    {
      "cell_type": "markdown",
      "metadata": {
        "id": "RGdGkHVVSlm1",
        "colab_type": "text"
      },
      "source": [
        "$-x_1 - 6x_2 = 2x_1\\\\\n",
        "2x_1 + 6x_2 = 2x_2$"
      ]
    },
    {
      "cell_type": "markdown",
      "metadata": {
        "id": "3ablUKwXTas_",
        "colab_type": "text"
      },
      "source": [
        "$3x_1 = -6x_2\\\\\n",
        "2x_1 = -4x_2\\\\\n",
        "x_1 = -2x_2$"
      ]
    },
    {
      "cell_type": "markdown",
      "metadata": {
        "id": "eMTu80gNWAMT",
        "colab_type": "text"
      },
      "source": [
        "Можно взять любые числа. Например, $x_1 = 1, x_2 = -2$"
      ]
    },
    {
      "cell_type": "markdown",
      "metadata": {
        "id": "JtLwrqdwWDpD",
        "colab_type": "text"
      },
      "source": [
        "$\\begin{pmatrix}\n",
        "-1 & -6\\\\\n",
        "2 & 6\n",
        "\\end{pmatrix} *\n",
        "\\begin{pmatrix}\n",
        "x_1\\\\\n",
        "x_2\n",
        "\\end{pmatrix} = 3*\\begin{pmatrix}\n",
        "x_1\\\\\n",
        "x_2\n",
        "\\end{pmatrix}$"
      ]
    },
    {
      "cell_type": "markdown",
      "metadata": {
        "id": "1K7gMfYKWH2M",
        "colab_type": "text"
      },
      "source": [
        "$-x_1 - 6x_2 = 3x_1\\\\\n",
        "2x_1 + 6x_2 = 3x_2$"
      ]
    },
    {
      "cell_type": "markdown",
      "metadata": {
        "id": "4JU5HbLRWOLT",
        "colab_type": "text"
      },
      "source": [
        "$4x_1 = -6x_2\\\\\n",
        "2x_1 = -3x_2\\\\\n",
        "x_1 = -2x_2\\\\\n",
        "x_1 = -2x_2$"
      ]
    },
    {
      "cell_type": "markdown",
      "metadata": {
        "id": "em01SwPoULWz",
        "colab_type": "text"
      },
      "source": [
        "Здесь аналогично, можно взять любые числа. Например, $x_1 = 1, x_2 = -2$"
      ]
    },
    {
      "cell_type": "markdown",
      "metadata": {
        "id": "uTd0-PB0W6gY",
        "colab_type": "text"
      },
      "source": [
        "Собственный вектор: (1, -2)"
      ]
    },
    {
      "cell_type": "markdown",
      "metadata": {
        "id": "JSs9cOWpXHnS",
        "colab_type": "text"
      },
      "source": [
        "2. Дан оператор поворота на 180 градусов, задаваемый матрицей\n",
        "\n",
        "\n",
        "$$A=\\begin{pmatrix}\n",
        "-1 & 0\\\\\n",
        "0 & -1\n",
        "\\end{pmatrix}$$\n",
        "\n",
        "Показать, что любой вектор является для него собственным.\n"
      ]
    },
    {
      "cell_type": "markdown",
      "metadata": {
        "id": "RdvF05aWXu6n",
        "colab_type": "text"
      },
      "source": [
        "$\\begin{pmatrix}\n",
        "-1 & 0\\\\\n",
        "0 & -1\n",
        "\\end{pmatrix}*\\begin{pmatrix}\n",
        "x_1\\\\\n",
        "x_2\n",
        "\\end{pmatrix} = lambda*\\begin{pmatrix}\n",
        "x_1\\\\\n",
        "x_2\n",
        "\\end{pmatrix}$"
      ]
    },
    {
      "cell_type": "markdown",
      "metadata": {
        "id": "pe092E0pYHQD",
        "colab_type": "text"
      },
      "source": [
        "$-x_1 = labmda * x_1\\\\\n",
        "-x_2 = labmda * x_2\\\\\n",
        "(lambda + 1)x_1 = 0\\\\\n",
        "(labmda + 1)x_2 = 0$"
      ]
    },
    {
      "cell_type": "markdown",
      "metadata": {
        "id": "GwXuaADIZCFL",
        "colab_type": "text"
      },
      "source": [
        "labmda может принимать какое угодно значение, значит любой вектор для этого оператора является собственным"
      ]
    },
    {
      "cell_type": "markdown",
      "metadata": {
        "id": "PMdvtliHZUWu",
        "colab_type": "text"
      },
      "source": [
        "3. Пусть линейный оператор задан матрицей\n",
        "\n",
        "$$A=\\begin{pmatrix}\n",
        "1 & 1\\\\\n",
        "-1 & 3\n",
        "\\end{pmatrix}$$\n",
        "\n",
        "Установить, является ли вектор  $x=(1,1)$  собственным вектором этого линейного оператора."
      ]
    },
    {
      "cell_type": "markdown",
      "metadata": {
        "id": "hOSI9sbEZjXK",
        "colab_type": "text"
      },
      "source": [
        "$\\begin{pmatrix}\n",
        "1 & 1\\\\\n",
        "-1 & 3\n",
        "\\end{pmatrix}*\\begin{pmatrix}\n",
        "1\\\\\n",
        "1\n",
        "\\end{pmatrix} = lambda*\\begin{pmatrix}\n",
        "1\\\\\n",
        "1\n",
        "\\end{pmatrix}$"
      ]
    },
    {
      "cell_type": "markdown",
      "metadata": {
        "id": "ijYoVFX5Z2OZ",
        "colab_type": "text"
      },
      "source": [
        "$2 = lambda\\\\\n",
        "2 = lambda$"
      ]
    },
    {
      "cell_type": "markdown",
      "metadata": {
        "id": "Inn4xAPwaE3r",
        "colab_type": "text"
      },
      "source": [
        "Вектор является собственным вектором данного оператора и имеет собственное значение равное 2"
      ]
    },
    {
      "cell_type": "markdown",
      "metadata": {
        "id": "ZzTULy-bangU",
        "colab_type": "text"
      },
      "source": [
        "4. Пусть линейный оператор задан матрицей\n",
        "\n",
        "$$A=\\begin{pmatrix}\n",
        "0 & 3 & 0\\\\\n",
        "3 & 0 & 0\\\\\n",
        "0 & 0 & 3\n",
        "\\end{pmatrix}$$\n",
        "\n",
        "Установить, является ли вектор  $x=(3,−3,−4)$  собственным вектором этого линейного оператора."
      ]
    },
    {
      "cell_type": "markdown",
      "metadata": {
        "id": "KxHkOvnha498",
        "colab_type": "text"
      },
      "source": [
        "$\\begin{pmatrix}\n",
        "0 & 3 & 0\\\\\n",
        "3 & 0 & 0\\\\\n",
        "0 & 0 & 3\n",
        "\\end{pmatrix}*\\begin{pmatrix}\n",
        "3\\\\\n",
        "-3\\\\\n",
        "-4\n",
        "\\end{pmatrix} = lambda*\\begin{pmatrix}\n",
        "3\\\\\n",
        "-3\\\\\n",
        "-4\n",
        "\\end{pmatrix}$"
      ]
    },
    {
      "cell_type": "markdown",
      "metadata": {
        "id": "JB6ipvnzbHXw",
        "colab_type": "text"
      },
      "source": [
        "$-9 = 3*lambda\\\\\n",
        "9 = -3 * lambda\\\\\n",
        "-12 = -4 * lambda$"
      ]
    },
    {
      "cell_type": "markdown",
      "metadata": {
        "id": "x79ug2aObV6d",
        "colab_type": "text"
      },
      "source": [
        "$lambda = -3\\\\\n",
        "lambda = -3\\\\\n",
        "lambda = 3$"
      ]
    },
    {
      "cell_type": "markdown",
      "metadata": {
        "id": "DZuMENGwb3iE",
        "colab_type": "text"
      },
      "source": [
        "Система уравнений не имеет смысла, значит вектор не является собственным для данного оператора"
      ]
    }
  ]
}