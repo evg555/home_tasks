{
  "nbformat": 4,
  "nbformat_minor": 0,
  "metadata": {
    "colab": {
      "name": "task2.ipynb",
      "provenance": [],
      "collapsed_sections": []
    },
    "kernelspec": {
      "name": "python3",
      "display_name": "Python 3"
    }
  },
  "cells": [
    {
      "cell_type": "code",
      "metadata": {
        "id": "WSXpLqBj19Jb",
        "colab_type": "code",
        "colab": {}
      },
      "source": [
        "import numpy as np"
      ],
      "execution_count": 0,
      "outputs": []
    },
    {
      "cell_type": "markdown",
      "metadata": {
        "id": "BNGcCrpG2V6e",
        "colab_type": "text"
      },
      "source": [
        "1. Найти скалярное произведение векторов  x,y ∈ R :  \n",
        "а)  x=(0,−3,6), y=(−4,7,9);   \n",
        "б)  x=(7,−4,0,1), y=(−3,1,11,2)"
      ]
    },
    {
      "cell_type": "markdown",
      "metadata": {
        "id": "dqrXsqfK2eA6",
        "colab_type": "text"
      },
      "source": [
        "Для а) x * y = 0 * -4 - 3 * 7 + 6 * 9 = 33  \n",
        "Для б) x * y = 7 * -3 - 4 * 1 + 0 * 11 + 1 * 2 = -23  \n",
        "  \n",
        "  \n",
        "Проверка"
      ]
    },
    {
      "cell_type": "code",
      "metadata": {
        "id": "i9KMByBa2U71",
        "colab_type": "code",
        "outputId": "d3465f92-61f5-46ca-b923-2ec36c9baf16",
        "colab": {
          "base_uri": "https://localhost:8080/",
          "height": 34
        }
      },
      "source": [
        "x = np.array([0,-3,6])\n",
        "y = np.array([-4,7,9])\n",
        "xy = np.dot(x,y)\n",
        "xy"
      ],
      "execution_count": 0,
      "outputs": [
        {
          "output_type": "execute_result",
          "data": {
            "text/plain": [
              "33"
            ]
          },
          "metadata": {
            "tags": []
          },
          "execution_count": 4
        }
      ]
    },
    {
      "cell_type": "code",
      "metadata": {
        "id": "3Psx-iZj3JL0",
        "colab_type": "code",
        "outputId": "b97054cf-033b-43d1-b3cc-af54a3643274",
        "colab": {
          "base_uri": "https://localhost:8080/",
          "height": 34
        }
      },
      "source": [
        "x = np.array([7,-4,0,1])\n",
        "y = np.array([-3,1,11,2])\n",
        "xy = np.dot(x,y)\n",
        "xy"
      ],
      "execution_count": 0,
      "outputs": [
        {
          "output_type": "execute_result",
          "data": {
            "text/plain": [
              "-23"
            ]
          },
          "metadata": {
            "tags": []
          },
          "execution_count": 5
        }
      ]
    },
    {
      "cell_type": "markdown",
      "metadata": {
        "id": "-KCPi-Es3h1V",
        "colab_type": "text"
      },
      "source": [
        "2. Найти нормы векторов  (4,2,4)  и  (12,3,4)  и угол между ними"
      ]
    },
    {
      "cell_type": "code",
      "metadata": {
        "id": "ERv6QaeY3f0u",
        "colab_type": "code",
        "outputId": "32b6efd7-fbc6-4e70-80c0-3f703dc9ac90",
        "colab": {
          "base_uri": "https://localhost:8080/",
          "height": 34
        }
      },
      "source": [
        "norm_m1 = 4 + 2 + 4\n",
        "norm_e1 = np.sqrt(16 + 4 + 16)\n",
        "norm_m1, norm_e1"
      ],
      "execution_count": 0,
      "outputs": [
        {
          "output_type": "execute_result",
          "data": {
            "text/plain": [
              "(10, 6.0)"
            ]
          },
          "metadata": {
            "tags": []
          },
          "execution_count": 8
        }
      ]
    },
    {
      "cell_type": "code",
      "metadata": {
        "id": "IPP0-HDb312Y",
        "colab_type": "code",
        "outputId": "672e8429-f5c5-46c2-aa50-9df847ac1241",
        "colab": {
          "base_uri": "https://localhost:8080/",
          "height": 34
        }
      },
      "source": [
        "norm_m2 = 12 + 3 + 4\n",
        "norm_e2 = np.sqrt(12**2 + 9 + 16)\n",
        "norm_m2, norm_e2\n"
      ],
      "execution_count": 0,
      "outputs": [
        {
          "output_type": "execute_result",
          "data": {
            "text/plain": [
              "(19, 13.0)"
            ]
          },
          "metadata": {
            "tags": []
          },
          "execution_count": 9
        }
      ]
    },
    {
      "cell_type": "code",
      "metadata": {
        "id": "OtrJf3pZ4Dsx",
        "colab_type": "code",
        "outputId": "cd0a5acc-32b7-4715-859f-6d3313121a4b",
        "colab": {
          "base_uri": "https://localhost:8080/",
          "height": 34
        }
      },
      "source": [
        "from numpy.linalg import norm\n",
        "\n",
        "x = np.array([4,2,4])\n",
        "y = np.array([12,3,4])\n",
        "\n",
        "cos_phi = np.dot(x,y) / norm(x) / norm(y)\n",
        "phi = np.arccos(cos_pi)\n",
        "phi"
      ],
      "execution_count": 0,
      "outputs": [
        {
          "output_type": "execute_result",
          "data": {
            "text/plain": [
              "0.4568740035326613"
            ]
          },
          "metadata": {
            "tags": []
          },
          "execution_count": 15
        }
      ]
    },
    {
      "cell_type": "markdown",
      "metadata": {
        "id": "QIo3-HXo6SYH",
        "colab_type": "text"
      },
      "source": [
        "4. Какие из нижеперечисленных векторов образуют ортонормированный базис в линейном пространстве  R3 :  \n",
        "а)  (1,0,0),(0,0,1);   \n",
        "б)  (1/2–√,−1/2–√,0),(1/2–√,1/2–√,0),(0,0,1);   \n",
        "в)  (1/2,−1/2,0),(0,1/2,1/2),(0,0,1);   \n",
        "г)  (1,0,0),(0,1,0),(0,0,1)?"
      ]
    },
    {
      "cell_type": "markdown",
      "metadata": {
        "id": "WpZ4qRTt6cit",
        "colab_type": "text"
      },
      "source": [
        "a) образует  \n",
        "б) не образует  \n",
        "в) не образует  \n",
        "г) образует"
      ]
    },
    {
      "cell_type": "code",
      "metadata": {
        "id": "Q-taXWdj40x7",
        "colab_type": "code",
        "colab": {}
      },
      "source": [
        ""
      ],
      "execution_count": 0,
      "outputs": []
    }
  ]
}