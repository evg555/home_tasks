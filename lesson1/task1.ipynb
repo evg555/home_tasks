{
 "cells": [
  {
   "cell_type": "code",
   "execution_count": 153,
   "metadata": {},
   "outputs": [],
   "source": [
    "import numpy as np\n",
    "import matplotlib.pyplot as plt"
   ]
  },
  {
   "cell_type": "markdown",
   "metadata": {},
   "source": [
    "### Задание 1. Подберите скорость обучения (alpha) и количество итераций."
   ]
  },
  {
   "cell_type": "code",
   "execution_count": 154,
   "metadata": {},
   "outputs": [
    {
     "data": {
      "text/plain": [
       "array([[ 1,  1,  1,  1,  1,  1,  1,  1,  1,  1],\n",
       "       [ 1,  1,  2,  1,  3,  0,  5, 10,  1,  2]])"
      ]
     },
     "execution_count": 154,
     "metadata": {},
     "output_type": "execute_result"
    }
   ],
   "source": [
    "X = np.array([[1, 1, 1, 1, 1, 1, 1, 1, 1, 1],\n",
    "              [1, 1, 2, 1, 3, 0, 5, 10, 1, 2]])\n",
    "X"
   ]
  },
  {
   "cell_type": "code",
   "execution_count": 155,
   "metadata": {},
   "outputs": [],
   "source": [
    "y = [45, 55, 50, 59, 65, 35, 75, 80, 50, 60]"
   ]
  },
  {
   "cell_type": "code",
   "execution_count": 156,
   "metadata": {},
   "outputs": [],
   "source": [
    "def calc_mse(y, y_pred):\n",
    "    err = np.mean((y - y_pred)**2)\n",
    "    return err"
   ]
  },
  {
   "cell_type": "code",
   "execution_count": 157,
   "metadata": {},
   "outputs": [
    {
     "data": {
      "text/plain": [
       "(array([1. , 0.5]), 0.001)"
      ]
     },
     "execution_count": 157,
     "metadata": {},
     "output_type": "execute_result"
    }
   ],
   "source": [
    "n = X.shape[1]\n",
    "alpha = 1e-3\n",
    "W = np.array([1, 0.5])\n",
    "W, alpha"
   ]
  },
  {
   "cell_type": "code",
   "execution_count": 158,
   "metadata": {},
   "outputs": [
    {
     "name": "stdout",
     "output_type": "stream",
     "text": [
      "0 [1.1102 0.84  ] 3173.15\n",
      "1000 [31.66648131  6.78503276] 176.46806566379882\n",
      "2000 [41.73215361  4.92632937] 62.2342399245102\n",
      "3000 [45.28877016  4.26957292] 47.97214782992787\n",
      "4000 [46.54546925  4.03751382] 46.19152576288303\n",
      "5000 [46.98951279  3.95551778] 45.96921511416331\n",
      "6000 [47.14641166  3.92654521] 45.94145963171208\n",
      "7000 [47.2018505  3.916308 ] 45.93799435998288\n",
      "8000 [47.22143932  3.91269078] 45.937561720839334\n",
      "9000 [47.22836086  3.91141266] 45.93750770584623\n",
      "10000 [47.23080652  3.91096105] 45.93750096207482\n",
      "11000 [47.23167067  3.91080148] 45.93750012011503\n",
      "12000 [47.23197602  3.91074509] 45.937500014996345\n",
      "13000 [47.23208391  3.91072517] 45.9375000018723\n",
      "14000 [47.23212203  3.91071813] 45.93750000023376\n"
     ]
    }
   ],
   "source": [
    "for i in range(15000):\n",
    "    y_pred = np.dot(W, X)\n",
    "    err = calc_mse(y, y_pred)   \n",
    "    \n",
    "    for ii in range(W.shape[0]):\n",
    "        W[ii] -= alpha * (1/n * 2 * np.sum(X[ii] * (y_pred - y)))\n",
    "    if i % 1000 == 0:\n",
    "        print(i, W, err)"
   ]
  },
  {
   "cell_type": "code",
   "execution_count": 159,
   "metadata": {},
   "outputs": [
    {
     "data": {
      "image/png": "[encoded data removed]",
      "text/plain": [
       "<Figure size 432x288 with 1 Axes>"
      ]
     },
     "metadata": {
      "needs_background": "light"
     },
     "output_type": "display_data"
    }
   ],
   "source": [
    "plt.scatter(X[1, :], y)\n",
    "plt.plot(X[1, :], 47.2321 + 3.9107 * X[1, :])\n",
    "plt.show()"
   ]
  },
  {
   "cell_type": "markdown",
   "metadata": {},
   "source": [
    "### Задание *3: вместо того, чтобы задавать количество итераций, задайте условие остановки алгоритма - когда ошибка за итерацию начинает изменяться ниже определенного порога (упрощенный аналог параметра tol в линейной регрессии в sklearn)."
   ]
  },
  {
   "cell_type": "code",
   "execution_count": 160,
   "metadata": {},
   "outputs": [],
   "source": [
    "def gradient_boosting(X=X, y=y, alpha=1e-4, tol=1e-6): \n",
    "    n = X.shape[1]\n",
    "    W = np.array([1, 0.5])\n",
    "    i = 0\n",
    "    \n",
    "    err_old = 1\n",
    "    err = 0\n",
    "    \n",
    "    while np.abs(err_old - err) > tol:\n",
    "        y_pred = np.dot(W, X)\n",
    "        err_old = err\n",
    "        err = calc_mse(y, y_pred)\n",
    "\n",
    "        for ii in range(W.shape[0]):\n",
    "            W[ii] -= alpha * (1/n * 2 * np.sum(X[ii] * (y_pred - y)))\n",
    "        i += 1\n",
    "\n",
    "    \n",
    "    print(i, W, err)"
   ]
  },
  {
   "cell_type": "code",
   "execution_count": 161,
   "metadata": {},
   "outputs": [
    {
     "name": "stdout",
     "output_type": "stream",
     "text": [
      "7016 [47.20231953  3.91622139] 45.937979169466495\n"
     ]
    }
   ],
   "source": [
    "gradient_boosting(X, y, 1e-3)"
   ]
  }
 ],
 "metadata": {
  "kernelspec": {
   "display_name": "Python 3",
   "language": "python",
   "name": "python3"
  },
  "language_info": {
   "codemirror_mode": {
    "name": "ipython",
    "version": 3
   },
   "file_extension": ".py",
   "mimetype": "text/x-python",
   "name": "python",
   "nbconvert_exporter": "python",
   "pygments_lexer": "ipython3",
   "version": "3.7.4"
  }
 },
 "nbformat": 4,
 "nbformat_minor": 2
}
