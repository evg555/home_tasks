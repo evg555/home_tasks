{
  "nbformat": 4,
  "nbformat_minor": 0,
  "metadata": {
    "colab": {
      "name": "task1.ipynb",
      "provenance": [],
      "collapsed_sections": []
    },
    "kernelspec": {
      "name": "python3",
      "display_name": "Python 3"
    }
  },
  "cells": [
    {
      "cell_type": "markdown",
      "metadata": {
        "id": "Zy4clbKduEHV",
        "colab_type": "text"
      },
      "source": [
        "1. Исследовать на линейную зависимость:  \n",
        "f1(x)=exp(x), f2(x)=1, f3(x)=x+1, f4(x)=x−exp(x)."
      ]
    },
    {
      "cell_type": "markdown",
      "metadata": {
        "id": "B86YVumOuuOS",
        "colab_type": "text"
      },
      "source": [
        "Можем представить f4 = f3 - f2 - f1 = x + 1 - 1 - exp(x) = x - exp(x)  \n",
        "Значит, вектора линейно зависимы"
      ]
    },
    {
      "cell_type": "markdown",
      "metadata": {
        "id": "eDM3tjqNvc4Q",
        "colab_type": "text"
      },
      "source": [
        "2. Исследовать на линейную зависимость:  \n",
        "f1(x)=2, f2(x)=x, f3(x)=x^2, f4(x)=(x+1)^2"
      ]
    },
    {
      "cell_type": "code",
      "metadata": {
        "id": "kI8LI4S0fgCJ",
        "colab_type": "code",
        "colab": {}
      },
      "source": [
        ""
      ],
      "execution_count": 0,
      "outputs": []
    },
    {
      "cell_type": "markdown",
      "metadata": {
        "id": "ECLBjaJDvuiz",
        "colab_type": "text"
      },
      "source": [
        "Здесь также можно представить  \n",
        "f4 = f3 + 2 * f2 + 0.5 * f1 = x^2 + 2 * x + 0.5 * 2 = (x + 1)^2  \n",
        "Значит, вектора линейно зависимы"
      ]
    },
    {
      "cell_type": "markdown",
      "metadata": {
        "id": "VblTIZMuwlZr",
        "colab_type": "text"
      },
      "source": [
        "3. Найти координаты вектора  x=(2,3,5)∈R3  в базисе  b1=(0,0,10) ,  b2=(2,0,0) ,  b3=(0,1,0)"
      ]
    },
    {
      "cell_type": "markdown",
      "metadata": {
        "id": "F7eq8PaYwvrU",
        "colab_type": "text"
      },
      "source": [
        "x = 0.5 * (0,0,10) + 3 * (0,1,0) + 1 * (2,0,0)\n",
        "то есть координатами вектора  x  в стандартном базисе являются  0.5, 3, 1"
      ]
    },
    {
      "cell_type": "code",
      "metadata": {
        "id": "3eaaKkAjt2xH",
        "colab_type": "code",
        "colab": {}
      },
      "source": [
        ""
      ],
      "execution_count": 0,
      "outputs": []
    }
  ]
}